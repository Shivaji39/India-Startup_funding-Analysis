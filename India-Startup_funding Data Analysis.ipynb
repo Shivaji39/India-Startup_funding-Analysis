{
 "cells": [
  {
   "cell_type": "code",
   "execution_count": 1,
   "metadata": {},
   "outputs": [],
   "source": [
    "import numpy as np\n",
    "import pandas as pd"
   ]
  },
  {
   "cell_type": "code",
   "execution_count": 2,
   "metadata": {},
   "outputs": [],
   "source": [
    "raw_df = pd.read_csv(\"C:/Users/heman/Downloads/startup_funding.csv\")"
   ]
  },
  {
   "cell_type": "code",
   "execution_count": 3,
   "metadata": {},
   "outputs": [
    {
     "data": {
      "text/html": [
       "<div>\n",
       "<style scoped>\n",
       "    .dataframe tbody tr th:only-of-type {\n",
       "        vertical-align: middle;\n",
       "    }\n",
       "\n",
       "    .dataframe tbody tr th {\n",
       "        vertical-align: top;\n",
       "    }\n",
       "\n",
       "    .dataframe thead th {\n",
       "        text-align: right;\n",
       "    }\n",
       "</style>\n",
       "<table border=\"1\" class=\"dataframe\">\n",
       "  <thead>\n",
       "    <tr style=\"text-align: right;\">\n",
       "      <th></th>\n",
       "      <th>Sr No</th>\n",
       "      <th>Date dd/mm/yyyy</th>\n",
       "      <th>Startup Name</th>\n",
       "      <th>Industry Vertical</th>\n",
       "      <th>SubVertical</th>\n",
       "      <th>City  Location</th>\n",
       "      <th>Investors Name</th>\n",
       "      <th>InvestmentnType</th>\n",
       "      <th>Amount in USD</th>\n",
       "    </tr>\n",
       "  </thead>\n",
       "  <tbody>\n",
       "    <tr>\n",
       "      <th>0</th>\n",
       "      <td>1</td>\n",
       "      <td>09-01-2020</td>\n",
       "      <td>BYJU’S</td>\n",
       "      <td>E-Tech</td>\n",
       "      <td>E-learning</td>\n",
       "      <td>Bengaluru</td>\n",
       "      <td>Tiger Global Management</td>\n",
       "      <td>Private Equity Round</td>\n",
       "      <td>20,00,00,000</td>\n",
       "    </tr>\n",
       "    <tr>\n",
       "      <th>1</th>\n",
       "      <td>2</td>\n",
       "      <td>13-01-2020</td>\n",
       "      <td>Shuttl</td>\n",
       "      <td>Transportation</td>\n",
       "      <td>App based shuttle service</td>\n",
       "      <td>Gurgaon</td>\n",
       "      <td>Susquehanna Growth Equity</td>\n",
       "      <td>Series C</td>\n",
       "      <td>80,48,394</td>\n",
       "    </tr>\n",
       "    <tr>\n",
       "      <th>2</th>\n",
       "      <td>3</td>\n",
       "      <td>09-01-2020</td>\n",
       "      <td>Mamaearth</td>\n",
       "      <td>E-commerce</td>\n",
       "      <td>Retailer of baby and toddler products</td>\n",
       "      <td>Bengaluru</td>\n",
       "      <td>Sequoia Capital India</td>\n",
       "      <td>Series B</td>\n",
       "      <td>1,83,58,860</td>\n",
       "    </tr>\n",
       "    <tr>\n",
       "      <th>3</th>\n",
       "      <td>4</td>\n",
       "      <td>02-01-2020</td>\n",
       "      <td>wealthbucket</td>\n",
       "      <td>FinTech</td>\n",
       "      <td>Online Investment</td>\n",
       "      <td>New Delhi</td>\n",
       "      <td>Vinod Khatumal</td>\n",
       "      <td>Pre-series A</td>\n",
       "      <td>30,00,000</td>\n",
       "    </tr>\n",
       "    <tr>\n",
       "      <th>4</th>\n",
       "      <td>5</td>\n",
       "      <td>02-01-2020</td>\n",
       "      <td>Fashor</td>\n",
       "      <td>Fashion and Apparel</td>\n",
       "      <td>Embroiled Clothes For Women</td>\n",
       "      <td>Mumbai</td>\n",
       "      <td>Sprout Venture Partners</td>\n",
       "      <td>Seed Round</td>\n",
       "      <td>18,00,000</td>\n",
       "    </tr>\n",
       "    <tr>\n",
       "      <th>...</th>\n",
       "      <td>...</td>\n",
       "      <td>...</td>\n",
       "      <td>...</td>\n",
       "      <td>...</td>\n",
       "      <td>...</td>\n",
       "      <td>...</td>\n",
       "      <td>...</td>\n",
       "      <td>...</td>\n",
       "      <td>...</td>\n",
       "    </tr>\n",
       "    <tr>\n",
       "      <th>3039</th>\n",
       "      <td>3040</td>\n",
       "      <td>29-01-2015</td>\n",
       "      <td>Printvenue</td>\n",
       "      <td>NaN</td>\n",
       "      <td>NaN</td>\n",
       "      <td>NaN</td>\n",
       "      <td>Asia Pacific Internet Group</td>\n",
       "      <td>Private Equity</td>\n",
       "      <td>45,00,000</td>\n",
       "    </tr>\n",
       "    <tr>\n",
       "      <th>3040</th>\n",
       "      <td>3041</td>\n",
       "      <td>29-01-2015</td>\n",
       "      <td>Graphene</td>\n",
       "      <td>NaN</td>\n",
       "      <td>NaN</td>\n",
       "      <td>NaN</td>\n",
       "      <td>KARSEMVEN Fund</td>\n",
       "      <td>Private Equity</td>\n",
       "      <td>8,25,000</td>\n",
       "    </tr>\n",
       "    <tr>\n",
       "      <th>3041</th>\n",
       "      <td>3042</td>\n",
       "      <td>30-01-2015</td>\n",
       "      <td>Mad Street Den</td>\n",
       "      <td>NaN</td>\n",
       "      <td>NaN</td>\n",
       "      <td>NaN</td>\n",
       "      <td>Exfinity Fund, GrowX Ventures.</td>\n",
       "      <td>Private Equity</td>\n",
       "      <td>15,00,000</td>\n",
       "    </tr>\n",
       "    <tr>\n",
       "      <th>3042</th>\n",
       "      <td>3043</td>\n",
       "      <td>30-01-2015</td>\n",
       "      <td>Simplotel</td>\n",
       "      <td>NaN</td>\n",
       "      <td>NaN</td>\n",
       "      <td>NaN</td>\n",
       "      <td>MakeMyTrip</td>\n",
       "      <td>Private Equity</td>\n",
       "      <td>NaN</td>\n",
       "    </tr>\n",
       "    <tr>\n",
       "      <th>3043</th>\n",
       "      <td>3044</td>\n",
       "      <td>31-01-2015</td>\n",
       "      <td>couponmachine.in</td>\n",
       "      <td>NaN</td>\n",
       "      <td>NaN</td>\n",
       "      <td>NaN</td>\n",
       "      <td>UK based Group of Angel Investors</td>\n",
       "      <td>Seed Funding</td>\n",
       "      <td>1,40,000</td>\n",
       "    </tr>\n",
       "  </tbody>\n",
       "</table>\n",
       "<p>3044 rows × 9 columns</p>\n",
       "</div>"
      ],
      "text/plain": [
       "      Sr No Date dd/mm/yyyy      Startup Name    Industry Vertical  \\\n",
       "0         1      09-01-2020            BYJU’S               E-Tech   \n",
       "1         2      13-01-2020            Shuttl       Transportation   \n",
       "2         3      09-01-2020         Mamaearth           E-commerce   \n",
       "3         4      02-01-2020      wealthbucket              FinTech   \n",
       "4         5      02-01-2020            Fashor  Fashion and Apparel   \n",
       "...     ...             ...               ...                  ...   \n",
       "3039   3040      29-01-2015        Printvenue                  NaN   \n",
       "3040   3041      29-01-2015          Graphene                  NaN   \n",
       "3041   3042      30-01-2015    Mad Street Den                  NaN   \n",
       "3042   3043      30-01-2015         Simplotel                  NaN   \n",
       "3043   3044      31-01-2015  couponmachine.in                  NaN   \n",
       "\n",
       "                                SubVertical City  Location  \\\n",
       "0                                E-learning      Bengaluru   \n",
       "1                 App based shuttle service        Gurgaon   \n",
       "2     Retailer of baby and toddler products      Bengaluru   \n",
       "3                         Online Investment      New Delhi   \n",
       "4               Embroiled Clothes For Women         Mumbai   \n",
       "...                                     ...            ...   \n",
       "3039                                    NaN            NaN   \n",
       "3040                                    NaN            NaN   \n",
       "3041                                    NaN            NaN   \n",
       "3042                                    NaN            NaN   \n",
       "3043                                    NaN            NaN   \n",
       "\n",
       "                         Investors Name       InvestmentnType Amount in USD  \n",
       "0               Tiger Global Management  Private Equity Round  20,00,00,000  \n",
       "1             Susquehanna Growth Equity              Series C     80,48,394  \n",
       "2                 Sequoia Capital India              Series B   1,83,58,860  \n",
       "3                        Vinod Khatumal          Pre-series A     30,00,000  \n",
       "4               Sprout Venture Partners            Seed Round     18,00,000  \n",
       "...                                 ...                   ...           ...  \n",
       "3039        Asia Pacific Internet Group        Private Equity     45,00,000  \n",
       "3040                     KARSEMVEN Fund        Private Equity      8,25,000  \n",
       "3041     Exfinity Fund, GrowX Ventures.        Private Equity     15,00,000  \n",
       "3042                         MakeMyTrip        Private Equity           NaN  \n",
       "3043  UK based Group of Angel Investors          Seed Funding      1,40,000  \n",
       "\n",
       "[3044 rows x 9 columns]"
      ]
     },
     "execution_count": 3,
     "metadata": {},
     "output_type": "execute_result"
    }
   ],
   "source": [
    "raw_df"
   ]
  },
  {
   "cell_type": "code",
   "execution_count": 4,
   "metadata": {},
   "outputs": [
    {
     "name": "stdout",
     "output_type": "stream",
     "text": [
      "<class 'pandas.core.frame.DataFrame'>\n",
      "RangeIndex: 3044 entries, 0 to 3043\n",
      "Data columns (total 9 columns):\n",
      " #   Column             Non-Null Count  Dtype \n",
      "---  ------             --------------  ----- \n",
      " 0   Sr No              3044 non-null   int64 \n",
      " 1   Date dd/mm/yyyy    3044 non-null   object\n",
      " 2   Startup Name       3044 non-null   object\n",
      " 3   Industry Vertical  2873 non-null   object\n",
      " 4   SubVertical        2108 non-null   object\n",
      " 5   City  Location     2864 non-null   object\n",
      " 6   Investors Name     3020 non-null   object\n",
      " 7   InvestmentnType    3040 non-null   object\n",
      " 8   Amount in USD      2080 non-null   object\n",
      "dtypes: int64(1), object(8)\n",
      "memory usage: 214.2+ KB\n"
     ]
    }
   ],
   "source": [
    "raw_df.info()"
   ]
  },
  {
   "cell_type": "markdown",
   "metadata": {},
   "source": [
    " ### We need to fix  the dtype to datetime of data column for year extraction before that we will change column names"
   ]
  },
  {
   "cell_type": "code",
   "execution_count": 5,
   "metadata": {},
   "outputs": [
    {
     "data": {
      "text/plain": [
       "Index(['Sr No', 'Date dd/mm/yyyy', 'Startup Name', 'Industry Vertical',\n",
       "       'SubVertical', 'City  Location', 'Investors Name', 'InvestmentnType',\n",
       "       'Amount in USD'],\n",
       "      dtype='object')"
      ]
     },
     "execution_count": 5,
     "metadata": {},
     "output_type": "execute_result"
    }
   ],
   "source": [
    "raw_df.columns"
   ]
  },
  {
   "cell_type": "code",
   "execution_count": 6,
   "metadata": {},
   "outputs": [],
   "source": [
    "raw_df.columns=['sr','date','startup_name','sector','sub_sector','city','investor','investment_type','amount_usd']"
   ]
  },
  {
   "cell_type": "code",
   "execution_count": 7,
   "metadata": {},
   "outputs": [
    {
     "data": {
      "text/plain": [
       "Index(['sr', 'date', 'startup_name', 'sector', 'sub_sector', 'city',\n",
       "       'investor', 'investment_type', 'amount_usd'],\n",
       "      dtype='object')"
      ]
     },
     "execution_count": 7,
     "metadata": {},
     "output_type": "execute_result"
    }
   ],
   "source": [
    "raw_df.columns"
   ]
  },
  {
   "cell_type": "code",
   "execution_count": 8,
   "metadata": {},
   "outputs": [],
   "source": [
    "df=raw_df.copy()"
   ]
  },
  {
   "cell_type": "code",
   "execution_count": 9,
   "metadata": {},
   "outputs": [
    {
     "data": {
      "text/html": [
       "<div>\n",
       "<style scoped>\n",
       "    .dataframe tbody tr th:only-of-type {\n",
       "        vertical-align: middle;\n",
       "    }\n",
       "\n",
       "    .dataframe tbody tr th {\n",
       "        vertical-align: top;\n",
       "    }\n",
       "\n",
       "    .dataframe thead th {\n",
       "        text-align: right;\n",
       "    }\n",
       "</style>\n",
       "<table border=\"1\" class=\"dataframe\">\n",
       "  <thead>\n",
       "    <tr style=\"text-align: right;\">\n",
       "      <th></th>\n",
       "      <th>sr</th>\n",
       "      <th>date</th>\n",
       "      <th>startup_name</th>\n",
       "      <th>sector</th>\n",
       "      <th>sub_sector</th>\n",
       "      <th>city</th>\n",
       "      <th>investor</th>\n",
       "      <th>investment_type</th>\n",
       "      <th>amount_usd</th>\n",
       "    </tr>\n",
       "  </thead>\n",
       "  <tbody>\n",
       "    <tr>\n",
       "      <th>0</th>\n",
       "      <td>1</td>\n",
       "      <td>09-01-2020</td>\n",
       "      <td>BYJU’S</td>\n",
       "      <td>E-Tech</td>\n",
       "      <td>E-learning</td>\n",
       "      <td>Bengaluru</td>\n",
       "      <td>Tiger Global Management</td>\n",
       "      <td>Private Equity Round</td>\n",
       "      <td>20,00,00,000</td>\n",
       "    </tr>\n",
       "    <tr>\n",
       "      <th>1</th>\n",
       "      <td>2</td>\n",
       "      <td>13-01-2020</td>\n",
       "      <td>Shuttl</td>\n",
       "      <td>Transportation</td>\n",
       "      <td>App based shuttle service</td>\n",
       "      <td>Gurgaon</td>\n",
       "      <td>Susquehanna Growth Equity</td>\n",
       "      <td>Series C</td>\n",
       "      <td>80,48,394</td>\n",
       "    </tr>\n",
       "    <tr>\n",
       "      <th>2</th>\n",
       "      <td>3</td>\n",
       "      <td>09-01-2020</td>\n",
       "      <td>Mamaearth</td>\n",
       "      <td>E-commerce</td>\n",
       "      <td>Retailer of baby and toddler products</td>\n",
       "      <td>Bengaluru</td>\n",
       "      <td>Sequoia Capital India</td>\n",
       "      <td>Series B</td>\n",
       "      <td>1,83,58,860</td>\n",
       "    </tr>\n",
       "    <tr>\n",
       "      <th>3</th>\n",
       "      <td>4</td>\n",
       "      <td>02-01-2020</td>\n",
       "      <td>wealthbucket</td>\n",
       "      <td>FinTech</td>\n",
       "      <td>Online Investment</td>\n",
       "      <td>New Delhi</td>\n",
       "      <td>Vinod Khatumal</td>\n",
       "      <td>Pre-series A</td>\n",
       "      <td>30,00,000</td>\n",
       "    </tr>\n",
       "    <tr>\n",
       "      <th>4</th>\n",
       "      <td>5</td>\n",
       "      <td>02-01-2020</td>\n",
       "      <td>Fashor</td>\n",
       "      <td>Fashion and Apparel</td>\n",
       "      <td>Embroiled Clothes For Women</td>\n",
       "      <td>Mumbai</td>\n",
       "      <td>Sprout Venture Partners</td>\n",
       "      <td>Seed Round</td>\n",
       "      <td>18,00,000</td>\n",
       "    </tr>\n",
       "    <tr>\n",
       "      <th>...</th>\n",
       "      <td>...</td>\n",
       "      <td>...</td>\n",
       "      <td>...</td>\n",
       "      <td>...</td>\n",
       "      <td>...</td>\n",
       "      <td>...</td>\n",
       "      <td>...</td>\n",
       "      <td>...</td>\n",
       "      <td>...</td>\n",
       "    </tr>\n",
       "    <tr>\n",
       "      <th>3039</th>\n",
       "      <td>3040</td>\n",
       "      <td>29-01-2015</td>\n",
       "      <td>Printvenue</td>\n",
       "      <td>NaN</td>\n",
       "      <td>NaN</td>\n",
       "      <td>NaN</td>\n",
       "      <td>Asia Pacific Internet Group</td>\n",
       "      <td>Private Equity</td>\n",
       "      <td>45,00,000</td>\n",
       "    </tr>\n",
       "    <tr>\n",
       "      <th>3040</th>\n",
       "      <td>3041</td>\n",
       "      <td>29-01-2015</td>\n",
       "      <td>Graphene</td>\n",
       "      <td>NaN</td>\n",
       "      <td>NaN</td>\n",
       "      <td>NaN</td>\n",
       "      <td>KARSEMVEN Fund</td>\n",
       "      <td>Private Equity</td>\n",
       "      <td>8,25,000</td>\n",
       "    </tr>\n",
       "    <tr>\n",
       "      <th>3041</th>\n",
       "      <td>3042</td>\n",
       "      <td>30-01-2015</td>\n",
       "      <td>Mad Street Den</td>\n",
       "      <td>NaN</td>\n",
       "      <td>NaN</td>\n",
       "      <td>NaN</td>\n",
       "      <td>Exfinity Fund, GrowX Ventures.</td>\n",
       "      <td>Private Equity</td>\n",
       "      <td>15,00,000</td>\n",
       "    </tr>\n",
       "    <tr>\n",
       "      <th>3042</th>\n",
       "      <td>3043</td>\n",
       "      <td>30-01-2015</td>\n",
       "      <td>Simplotel</td>\n",
       "      <td>NaN</td>\n",
       "      <td>NaN</td>\n",
       "      <td>NaN</td>\n",
       "      <td>MakeMyTrip</td>\n",
       "      <td>Private Equity</td>\n",
       "      <td>NaN</td>\n",
       "    </tr>\n",
       "    <tr>\n",
       "      <th>3043</th>\n",
       "      <td>3044</td>\n",
       "      <td>31-01-2015</td>\n",
       "      <td>couponmachine.in</td>\n",
       "      <td>NaN</td>\n",
       "      <td>NaN</td>\n",
       "      <td>NaN</td>\n",
       "      <td>UK based Group of Angel Investors</td>\n",
       "      <td>Seed Funding</td>\n",
       "      <td>1,40,000</td>\n",
       "    </tr>\n",
       "  </tbody>\n",
       "</table>\n",
       "<p>3044 rows × 9 columns</p>\n",
       "</div>"
      ],
      "text/plain": [
       "        sr        date      startup_name               sector  \\\n",
       "0        1  09-01-2020            BYJU’S               E-Tech   \n",
       "1        2  13-01-2020            Shuttl       Transportation   \n",
       "2        3  09-01-2020         Mamaearth           E-commerce   \n",
       "3        4  02-01-2020      wealthbucket              FinTech   \n",
       "4        5  02-01-2020            Fashor  Fashion and Apparel   \n",
       "...    ...         ...               ...                  ...   \n",
       "3039  3040  29-01-2015        Printvenue                  NaN   \n",
       "3040  3041  29-01-2015          Graphene                  NaN   \n",
       "3041  3042  30-01-2015    Mad Street Den                  NaN   \n",
       "3042  3043  30-01-2015         Simplotel                  NaN   \n",
       "3043  3044  31-01-2015  couponmachine.in                  NaN   \n",
       "\n",
       "                                 sub_sector       city  \\\n",
       "0                                E-learning  Bengaluru   \n",
       "1                 App based shuttle service    Gurgaon   \n",
       "2     Retailer of baby and toddler products  Bengaluru   \n",
       "3                         Online Investment  New Delhi   \n",
       "4               Embroiled Clothes For Women     Mumbai   \n",
       "...                                     ...        ...   \n",
       "3039                                    NaN        NaN   \n",
       "3040                                    NaN        NaN   \n",
       "3041                                    NaN        NaN   \n",
       "3042                                    NaN        NaN   \n",
       "3043                                    NaN        NaN   \n",
       "\n",
       "                               investor       investment_type    amount_usd  \n",
       "0               Tiger Global Management  Private Equity Round  20,00,00,000  \n",
       "1             Susquehanna Growth Equity              Series C     80,48,394  \n",
       "2                 Sequoia Capital India              Series B   1,83,58,860  \n",
       "3                        Vinod Khatumal          Pre-series A     30,00,000  \n",
       "4               Sprout Venture Partners            Seed Round     18,00,000  \n",
       "...                                 ...                   ...           ...  \n",
       "3039        Asia Pacific Internet Group        Private Equity     45,00,000  \n",
       "3040                     KARSEMVEN Fund        Private Equity      8,25,000  \n",
       "3041     Exfinity Fund, GrowX Ventures.        Private Equity     15,00,000  \n",
       "3042                         MakeMyTrip        Private Equity           NaN  \n",
       "3043  UK based Group of Angel Investors          Seed Funding      1,40,000  \n",
       "\n",
       "[3044 rows x 9 columns]"
      ]
     },
     "execution_count": 9,
     "metadata": {},
     "output_type": "execute_result"
    }
   ],
   "source": [
    "df"
   ]
  },
  {
   "cell_type": "markdown",
   "metadata": {},
   "source": [
    "> ### We need to date column to datetime format from object because we need year for analysis"
   ]
  },
  {
   "cell_type": "code",
   "execution_count": 10,
   "metadata": {},
   "outputs": [],
   "source": [
    "df['date']=df['date'].str.replace('05/072018','05-07-2018')"
   ]
  },
  {
   "cell_type": "code",
   "execution_count": 11,
   "metadata": {},
   "outputs": [],
   "source": [
    "df['date']=pd.to_datetime(df['date'],errors='coerce') ## errors = 'coerce' will avoid the errors"
   ]
  },
  {
   "cell_type": "code",
   "execution_count": 12,
   "metadata": {},
   "outputs": [],
   "source": [
    "df=df.fillna({\n",
    "    'startup_name':'unknown',\n",
    "    'sector':'unknown',\n",
    "    'sub_sector':'unknown',\n",
    "    'city':'India',\n",
    "    'investor':'hidden',\n",
    "    'investment_type':'unknown',\n",
    "    'amount_usd':'0'\n",
    "    \n",
    "})"
   ]
  },
  {
   "cell_type": "code",
   "execution_count": 13,
   "metadata": {},
   "outputs": [
    {
     "data": {
      "text/plain": [
       "0"
      ]
     },
     "execution_count": 13,
     "metadata": {},
     "output_type": "execute_result"
    }
   ],
   "source": [
    "df.amount_usd.isnull().sum()"
   ]
  },
  {
   "cell_type": "markdown",
   "metadata": {},
   "source": [
    "> ### Now lets change the datatype of amount_usd column for further stat calculations \n",
    "> We need to remove commas from amounts to convert it into floats"
   ]
  },
  {
   "cell_type": "code",
   "execution_count": 14,
   "metadata": {},
   "outputs": [],
   "source": [
    "df['amount_usd']=df.amount_usd.str.replace(',','').str.replace('+','').astype(float) "
   ]
  },
  {
   "cell_type": "code",
   "execution_count": 15,
   "metadata": {},
   "outputs": [
    {
     "name": "stdout",
     "output_type": "stream",
     "text": [
      "<class 'pandas.core.frame.DataFrame'>\n",
      "RangeIndex: 3044 entries, 0 to 3043\n",
      "Data columns (total 9 columns):\n",
      " #   Column           Non-Null Count  Dtype         \n",
      "---  ------           --------------  -----         \n",
      " 0   sr               3044 non-null   int64         \n",
      " 1   date             3042 non-null   datetime64[ns]\n",
      " 2   startup_name     3044 non-null   object        \n",
      " 3   sector           3044 non-null   object        \n",
      " 4   sub_sector       3044 non-null   object        \n",
      " 5   city             3044 non-null   object        \n",
      " 6   investor         3044 non-null   object        \n",
      " 7   investment_type  3044 non-null   object        \n",
      " 8   amount_usd       3044 non-null   float64       \n",
      "dtypes: datetime64[ns](1), float64(1), int64(1), object(6)\n",
      "memory usage: 214.2+ KB\n"
     ]
    }
   ],
   "source": [
    "df.info()"
   ]
  },
  {
   "cell_type": "markdown",
   "metadata": {},
   "source": [
    "# Exploaratory Analysis And Visualisation\n",
    "> ## here we will make some computations like sum,cumsum,and mean "
   ]
  },
  {
   "cell_type": "code",
   "execution_count": 16,
   "metadata": {},
   "outputs": [],
   "source": [
    "## we will add new year column to our dataset df\n",
    "df['year'] = pd.DatetimeIndex(df.date).year"
   ]
  },
  {
   "cell_type": "code",
   "execution_count": 17,
   "metadata": {},
   "outputs": [
    {
     "data": {
      "text/html": [
       "<div>\n",
       "<style scoped>\n",
       "    .dataframe tbody tr th:only-of-type {\n",
       "        vertical-align: middle;\n",
       "    }\n",
       "\n",
       "    .dataframe tbody tr th {\n",
       "        vertical-align: top;\n",
       "    }\n",
       "\n",
       "    .dataframe thead th {\n",
       "        text-align: right;\n",
       "    }\n",
       "</style>\n",
       "<table border=\"1\" class=\"dataframe\">\n",
       "  <thead>\n",
       "    <tr style=\"text-align: right;\">\n",
       "      <th></th>\n",
       "      <th>sr</th>\n",
       "      <th>date</th>\n",
       "      <th>startup_name</th>\n",
       "      <th>sector</th>\n",
       "      <th>sub_sector</th>\n",
       "      <th>city</th>\n",
       "      <th>investor</th>\n",
       "      <th>investment_type</th>\n",
       "      <th>amount_usd</th>\n",
       "      <th>year</th>\n",
       "    </tr>\n",
       "  </thead>\n",
       "  <tbody>\n",
       "    <tr>\n",
       "      <th>0</th>\n",
       "      <td>1</td>\n",
       "      <td>2020-09-01</td>\n",
       "      <td>BYJU’S</td>\n",
       "      <td>E-Tech</td>\n",
       "      <td>E-learning</td>\n",
       "      <td>Bengaluru</td>\n",
       "      <td>Tiger Global Management</td>\n",
       "      <td>Private Equity Round</td>\n",
       "      <td>200000000.0</td>\n",
       "      <td>2020.0</td>\n",
       "    </tr>\n",
       "    <tr>\n",
       "      <th>1</th>\n",
       "      <td>2</td>\n",
       "      <td>2020-01-13</td>\n",
       "      <td>Shuttl</td>\n",
       "      <td>Transportation</td>\n",
       "      <td>App based shuttle service</td>\n",
       "      <td>Gurgaon</td>\n",
       "      <td>Susquehanna Growth Equity</td>\n",
       "      <td>Series C</td>\n",
       "      <td>8048394.0</td>\n",
       "      <td>2020.0</td>\n",
       "    </tr>\n",
       "    <tr>\n",
       "      <th>2</th>\n",
       "      <td>3</td>\n",
       "      <td>2020-09-01</td>\n",
       "      <td>Mamaearth</td>\n",
       "      <td>E-commerce</td>\n",
       "      <td>Retailer of baby and toddler products</td>\n",
       "      <td>Bengaluru</td>\n",
       "      <td>Sequoia Capital India</td>\n",
       "      <td>Series B</td>\n",
       "      <td>18358860.0</td>\n",
       "      <td>2020.0</td>\n",
       "    </tr>\n",
       "    <tr>\n",
       "      <th>3</th>\n",
       "      <td>4</td>\n",
       "      <td>2020-02-01</td>\n",
       "      <td>wealthbucket</td>\n",
       "      <td>FinTech</td>\n",
       "      <td>Online Investment</td>\n",
       "      <td>New Delhi</td>\n",
       "      <td>Vinod Khatumal</td>\n",
       "      <td>Pre-series A</td>\n",
       "      <td>3000000.0</td>\n",
       "      <td>2020.0</td>\n",
       "    </tr>\n",
       "    <tr>\n",
       "      <th>4</th>\n",
       "      <td>5</td>\n",
       "      <td>2020-02-01</td>\n",
       "      <td>Fashor</td>\n",
       "      <td>Fashion and Apparel</td>\n",
       "      <td>Embroiled Clothes For Women</td>\n",
       "      <td>Mumbai</td>\n",
       "      <td>Sprout Venture Partners</td>\n",
       "      <td>Seed Round</td>\n",
       "      <td>1800000.0</td>\n",
       "      <td>2020.0</td>\n",
       "    </tr>\n",
       "    <tr>\n",
       "      <th>...</th>\n",
       "      <td>...</td>\n",
       "      <td>...</td>\n",
       "      <td>...</td>\n",
       "      <td>...</td>\n",
       "      <td>...</td>\n",
       "      <td>...</td>\n",
       "      <td>...</td>\n",
       "      <td>...</td>\n",
       "      <td>...</td>\n",
       "      <td>...</td>\n",
       "    </tr>\n",
       "    <tr>\n",
       "      <th>3039</th>\n",
       "      <td>3040</td>\n",
       "      <td>2015-01-29</td>\n",
       "      <td>Printvenue</td>\n",
       "      <td>unknown</td>\n",
       "      <td>unknown</td>\n",
       "      <td>India</td>\n",
       "      <td>Asia Pacific Internet Group</td>\n",
       "      <td>Private Equity</td>\n",
       "      <td>4500000.0</td>\n",
       "      <td>2015.0</td>\n",
       "    </tr>\n",
       "    <tr>\n",
       "      <th>3040</th>\n",
       "      <td>3041</td>\n",
       "      <td>2015-01-29</td>\n",
       "      <td>Graphene</td>\n",
       "      <td>unknown</td>\n",
       "      <td>unknown</td>\n",
       "      <td>India</td>\n",
       "      <td>KARSEMVEN Fund</td>\n",
       "      <td>Private Equity</td>\n",
       "      <td>825000.0</td>\n",
       "      <td>2015.0</td>\n",
       "    </tr>\n",
       "    <tr>\n",
       "      <th>3041</th>\n",
       "      <td>3042</td>\n",
       "      <td>2015-01-30</td>\n",
       "      <td>Mad Street Den</td>\n",
       "      <td>unknown</td>\n",
       "      <td>unknown</td>\n",
       "      <td>India</td>\n",
       "      <td>Exfinity Fund, GrowX Ventures.</td>\n",
       "      <td>Private Equity</td>\n",
       "      <td>1500000.0</td>\n",
       "      <td>2015.0</td>\n",
       "    </tr>\n",
       "    <tr>\n",
       "      <th>3042</th>\n",
       "      <td>3043</td>\n",
       "      <td>2015-01-30</td>\n",
       "      <td>Simplotel</td>\n",
       "      <td>unknown</td>\n",
       "      <td>unknown</td>\n",
       "      <td>India</td>\n",
       "      <td>MakeMyTrip</td>\n",
       "      <td>Private Equity</td>\n",
       "      <td>0.0</td>\n",
       "      <td>2015.0</td>\n",
       "    </tr>\n",
       "    <tr>\n",
       "      <th>3043</th>\n",
       "      <td>3044</td>\n",
       "      <td>2015-01-31</td>\n",
       "      <td>couponmachine.in</td>\n",
       "      <td>unknown</td>\n",
       "      <td>unknown</td>\n",
       "      <td>India</td>\n",
       "      <td>UK based Group of Angel Investors</td>\n",
       "      <td>Seed Funding</td>\n",
       "      <td>140000.0</td>\n",
       "      <td>2015.0</td>\n",
       "    </tr>\n",
       "  </tbody>\n",
       "</table>\n",
       "<p>3044 rows × 10 columns</p>\n",
       "</div>"
      ],
      "text/plain": [
       "        sr       date      startup_name               sector  \\\n",
       "0        1 2020-09-01            BYJU’S               E-Tech   \n",
       "1        2 2020-01-13            Shuttl       Transportation   \n",
       "2        3 2020-09-01         Mamaearth           E-commerce   \n",
       "3        4 2020-02-01      wealthbucket              FinTech   \n",
       "4        5 2020-02-01            Fashor  Fashion and Apparel   \n",
       "...    ...        ...               ...                  ...   \n",
       "3039  3040 2015-01-29        Printvenue              unknown   \n",
       "3040  3041 2015-01-29          Graphene              unknown   \n",
       "3041  3042 2015-01-30    Mad Street Den              unknown   \n",
       "3042  3043 2015-01-30         Simplotel              unknown   \n",
       "3043  3044 2015-01-31  couponmachine.in              unknown   \n",
       "\n",
       "                                 sub_sector       city  \\\n",
       "0                                E-learning  Bengaluru   \n",
       "1                 App based shuttle service    Gurgaon   \n",
       "2     Retailer of baby and toddler products  Bengaluru   \n",
       "3                         Online Investment  New Delhi   \n",
       "4               Embroiled Clothes For Women     Mumbai   \n",
       "...                                     ...        ...   \n",
       "3039                                unknown      India   \n",
       "3040                                unknown      India   \n",
       "3041                                unknown      India   \n",
       "3042                                unknown      India   \n",
       "3043                                unknown      India   \n",
       "\n",
       "                               investor       investment_type   amount_usd  \\\n",
       "0               Tiger Global Management  Private Equity Round  200000000.0   \n",
       "1             Susquehanna Growth Equity              Series C    8048394.0   \n",
       "2                 Sequoia Capital India              Series B   18358860.0   \n",
       "3                        Vinod Khatumal          Pre-series A    3000000.0   \n",
       "4               Sprout Venture Partners            Seed Round    1800000.0   \n",
       "...                                 ...                   ...          ...   \n",
       "3039        Asia Pacific Internet Group        Private Equity    4500000.0   \n",
       "3040                     KARSEMVEN Fund        Private Equity     825000.0   \n",
       "3041     Exfinity Fund, GrowX Ventures.        Private Equity    1500000.0   \n",
       "3042                         MakeMyTrip        Private Equity          0.0   \n",
       "3043  UK based Group of Angel Investors          Seed Funding     140000.0   \n",
       "\n",
       "        year  \n",
       "0     2020.0  \n",
       "1     2020.0  \n",
       "2     2020.0  \n",
       "3     2020.0  \n",
       "4     2020.0  \n",
       "...      ...  \n",
       "3039  2015.0  \n",
       "3040  2015.0  \n",
       "3041  2015.0  \n",
       "3042  2015.0  \n",
       "3043  2015.0  \n",
       "\n",
       "[3044 rows x 10 columns]"
      ]
     },
     "execution_count": 17,
     "metadata": {},
     "output_type": "execute_result"
    }
   ],
   "source": [
    "df"
   ]
  },
  {
   "cell_type": "code",
   "execution_count": 18,
   "metadata": {},
   "outputs": [],
   "source": [
    "df['year']=df.year.fillna(2018) ## filled two error years with mean year"
   ]
  },
  {
   "cell_type": "code",
   "execution_count": 19,
   "metadata": {},
   "outputs": [],
   "source": [
    "df['year']=df.year.astype(int)"
   ]
  },
  {
   "cell_type": "code",
   "execution_count": 20,
   "metadata": {},
   "outputs": [
    {
     "data": {
      "text/html": [
       "<div>\n",
       "<style scoped>\n",
       "    .dataframe tbody tr th:only-of-type {\n",
       "        vertical-align: middle;\n",
       "    }\n",
       "\n",
       "    .dataframe tbody tr th {\n",
       "        vertical-align: top;\n",
       "    }\n",
       "\n",
       "    .dataframe thead th {\n",
       "        text-align: right;\n",
       "    }\n",
       "</style>\n",
       "<table border=\"1\" class=\"dataframe\">\n",
       "  <thead>\n",
       "    <tr style=\"text-align: right;\">\n",
       "      <th></th>\n",
       "      <th>sr</th>\n",
       "      <th>date</th>\n",
       "      <th>startup_name</th>\n",
       "      <th>sector</th>\n",
       "      <th>sub_sector</th>\n",
       "      <th>city</th>\n",
       "      <th>investor</th>\n",
       "      <th>investment_type</th>\n",
       "      <th>amount_usd</th>\n",
       "      <th>year</th>\n",
       "    </tr>\n",
       "  </thead>\n",
       "  <tbody>\n",
       "    <tr>\n",
       "      <th>0</th>\n",
       "      <td>1</td>\n",
       "      <td>2020-09-01</td>\n",
       "      <td>BYJU’S</td>\n",
       "      <td>E-Tech</td>\n",
       "      <td>E-learning</td>\n",
       "      <td>Bengaluru</td>\n",
       "      <td>Tiger Global Management</td>\n",
       "      <td>Private Equity Round</td>\n",
       "      <td>200000000.0</td>\n",
       "      <td>2020</td>\n",
       "    </tr>\n",
       "    <tr>\n",
       "      <th>1</th>\n",
       "      <td>2</td>\n",
       "      <td>2020-01-13</td>\n",
       "      <td>Shuttl</td>\n",
       "      <td>Transportation</td>\n",
       "      <td>App based shuttle service</td>\n",
       "      <td>Gurgaon</td>\n",
       "      <td>Susquehanna Growth Equity</td>\n",
       "      <td>Series C</td>\n",
       "      <td>8048394.0</td>\n",
       "      <td>2020</td>\n",
       "    </tr>\n",
       "    <tr>\n",
       "      <th>2</th>\n",
       "      <td>3</td>\n",
       "      <td>2020-09-01</td>\n",
       "      <td>Mamaearth</td>\n",
       "      <td>E-commerce</td>\n",
       "      <td>Retailer of baby and toddler products</td>\n",
       "      <td>Bengaluru</td>\n",
       "      <td>Sequoia Capital India</td>\n",
       "      <td>Series B</td>\n",
       "      <td>18358860.0</td>\n",
       "      <td>2020</td>\n",
       "    </tr>\n",
       "    <tr>\n",
       "      <th>3</th>\n",
       "      <td>4</td>\n",
       "      <td>2020-02-01</td>\n",
       "      <td>wealthbucket</td>\n",
       "      <td>FinTech</td>\n",
       "      <td>Online Investment</td>\n",
       "      <td>New Delhi</td>\n",
       "      <td>Vinod Khatumal</td>\n",
       "      <td>Pre-series A</td>\n",
       "      <td>3000000.0</td>\n",
       "      <td>2020</td>\n",
       "    </tr>\n",
       "    <tr>\n",
       "      <th>4</th>\n",
       "      <td>5</td>\n",
       "      <td>2020-02-01</td>\n",
       "      <td>Fashor</td>\n",
       "      <td>Fashion and Apparel</td>\n",
       "      <td>Embroiled Clothes For Women</td>\n",
       "      <td>Mumbai</td>\n",
       "      <td>Sprout Venture Partners</td>\n",
       "      <td>Seed Round</td>\n",
       "      <td>1800000.0</td>\n",
       "      <td>2020</td>\n",
       "    </tr>\n",
       "    <tr>\n",
       "      <th>...</th>\n",
       "      <td>...</td>\n",
       "      <td>...</td>\n",
       "      <td>...</td>\n",
       "      <td>...</td>\n",
       "      <td>...</td>\n",
       "      <td>...</td>\n",
       "      <td>...</td>\n",
       "      <td>...</td>\n",
       "      <td>...</td>\n",
       "      <td>...</td>\n",
       "    </tr>\n",
       "    <tr>\n",
       "      <th>3039</th>\n",
       "      <td>3040</td>\n",
       "      <td>2015-01-29</td>\n",
       "      <td>Printvenue</td>\n",
       "      <td>unknown</td>\n",
       "      <td>unknown</td>\n",
       "      <td>India</td>\n",
       "      <td>Asia Pacific Internet Group</td>\n",
       "      <td>Private Equity</td>\n",
       "      <td>4500000.0</td>\n",
       "      <td>2015</td>\n",
       "    </tr>\n",
       "    <tr>\n",
       "      <th>3040</th>\n",
       "      <td>3041</td>\n",
       "      <td>2015-01-29</td>\n",
       "      <td>Graphene</td>\n",
       "      <td>unknown</td>\n",
       "      <td>unknown</td>\n",
       "      <td>India</td>\n",
       "      <td>KARSEMVEN Fund</td>\n",
       "      <td>Private Equity</td>\n",
       "      <td>825000.0</td>\n",
       "      <td>2015</td>\n",
       "    </tr>\n",
       "    <tr>\n",
       "      <th>3041</th>\n",
       "      <td>3042</td>\n",
       "      <td>2015-01-30</td>\n",
       "      <td>Mad Street Den</td>\n",
       "      <td>unknown</td>\n",
       "      <td>unknown</td>\n",
       "      <td>India</td>\n",
       "      <td>Exfinity Fund, GrowX Ventures.</td>\n",
       "      <td>Private Equity</td>\n",
       "      <td>1500000.0</td>\n",
       "      <td>2015</td>\n",
       "    </tr>\n",
       "    <tr>\n",
       "      <th>3042</th>\n",
       "      <td>3043</td>\n",
       "      <td>2015-01-30</td>\n",
       "      <td>Simplotel</td>\n",
       "      <td>unknown</td>\n",
       "      <td>unknown</td>\n",
       "      <td>India</td>\n",
       "      <td>MakeMyTrip</td>\n",
       "      <td>Private Equity</td>\n",
       "      <td>0.0</td>\n",
       "      <td>2015</td>\n",
       "    </tr>\n",
       "    <tr>\n",
       "      <th>3043</th>\n",
       "      <td>3044</td>\n",
       "      <td>2015-01-31</td>\n",
       "      <td>couponmachine.in</td>\n",
       "      <td>unknown</td>\n",
       "      <td>unknown</td>\n",
       "      <td>India</td>\n",
       "      <td>UK based Group of Angel Investors</td>\n",
       "      <td>Seed Funding</td>\n",
       "      <td>140000.0</td>\n",
       "      <td>2015</td>\n",
       "    </tr>\n",
       "  </tbody>\n",
       "</table>\n",
       "<p>3044 rows × 10 columns</p>\n",
       "</div>"
      ],
      "text/plain": [
       "        sr       date      startup_name               sector  \\\n",
       "0        1 2020-09-01            BYJU’S               E-Tech   \n",
       "1        2 2020-01-13            Shuttl       Transportation   \n",
       "2        3 2020-09-01         Mamaearth           E-commerce   \n",
       "3        4 2020-02-01      wealthbucket              FinTech   \n",
       "4        5 2020-02-01            Fashor  Fashion and Apparel   \n",
       "...    ...        ...               ...                  ...   \n",
       "3039  3040 2015-01-29        Printvenue              unknown   \n",
       "3040  3041 2015-01-29          Graphene              unknown   \n",
       "3041  3042 2015-01-30    Mad Street Den              unknown   \n",
       "3042  3043 2015-01-30         Simplotel              unknown   \n",
       "3043  3044 2015-01-31  couponmachine.in              unknown   \n",
       "\n",
       "                                 sub_sector       city  \\\n",
       "0                                E-learning  Bengaluru   \n",
       "1                 App based shuttle service    Gurgaon   \n",
       "2     Retailer of baby and toddler products  Bengaluru   \n",
       "3                         Online Investment  New Delhi   \n",
       "4               Embroiled Clothes For Women     Mumbai   \n",
       "...                                     ...        ...   \n",
       "3039                                unknown      India   \n",
       "3040                                unknown      India   \n",
       "3041                                unknown      India   \n",
       "3042                                unknown      India   \n",
       "3043                                unknown      India   \n",
       "\n",
       "                               investor       investment_type   amount_usd  \\\n",
       "0               Tiger Global Management  Private Equity Round  200000000.0   \n",
       "1             Susquehanna Growth Equity              Series C    8048394.0   \n",
       "2                 Sequoia Capital India              Series B   18358860.0   \n",
       "3                        Vinod Khatumal          Pre-series A    3000000.0   \n",
       "4               Sprout Venture Partners            Seed Round    1800000.0   \n",
       "...                                 ...                   ...          ...   \n",
       "3039        Asia Pacific Internet Group        Private Equity    4500000.0   \n",
       "3040                     KARSEMVEN Fund        Private Equity     825000.0   \n",
       "3041     Exfinity Fund, GrowX Ventures.        Private Equity    1500000.0   \n",
       "3042                         MakeMyTrip        Private Equity          0.0   \n",
       "3043  UK based Group of Angel Investors          Seed Funding     140000.0   \n",
       "\n",
       "      year  \n",
       "0     2020  \n",
       "1     2020  \n",
       "2     2020  \n",
       "3     2020  \n",
       "4     2020  \n",
       "...    ...  \n",
       "3039  2015  \n",
       "3040  2015  \n",
       "3041  2015  \n",
       "3042  2015  \n",
       "3043  2015  \n",
       "\n",
       "[3044 rows x 10 columns]"
      ]
     },
     "execution_count": 20,
     "metadata": {},
     "output_type": "execute_result"
    }
   ],
   "source": [
    "df"
   ]
  },
  {
   "cell_type": "markdown",
   "metadata": {},
   "source": [
    "> ## Now amount_usd cannot be zero so lets replace 0 with mean values"
   ]
  },
  {
   "cell_type": "code",
   "execution_count": 21,
   "metadata": {},
   "outputs": [
    {
     "data": {
      "text/plain": [
       "0"
      ]
     },
     "execution_count": 21,
     "metadata": {},
     "output_type": "execute_result"
    }
   ],
   "source": [
    "df.amount_usd=df.amount_usd.fillna(0)\n",
    "df.amount_usd.isna().sum()"
   ]
  },
  {
   "cell_type": "code",
   "execution_count": 22,
   "metadata": {},
   "outputs": [],
   "source": [
    "mean=df.amount_usd.mean()"
   ]
  },
  {
   "cell_type": "code",
   "execution_count": 23,
   "metadata": {},
   "outputs": [
    {
     "name": "stderr",
     "output_type": "stream",
     "text": [
      "<ipython-input-23-7a56149388dc>:4: SettingWithCopyWarning: \n",
      "A value is trying to be set on a copy of a slice from a DataFrame\n",
      "\n",
      "See the caveats in the documentation: https://pandas.pydata.org/pandas-docs/stable/user_guide/indexing.html#returning-a-view-versus-a-copy\n",
      "  df['amount_usd'][i]=mean\n"
     ]
    }
   ],
   "source": [
    "## enumerate fun for finding index at which amount is zero\n",
    "for i,item in enumerate(df.amount_usd):\n",
    "    if(item==0):\n",
    "        df['amount_usd'][i]=mean"
   ]
  },
  {
   "cell_type": "code",
   "execution_count": 24,
   "metadata": {},
   "outputs": [
    {
     "data": {
      "text/html": [
       "<div>\n",
       "<style scoped>\n",
       "    .dataframe tbody tr th:only-of-type {\n",
       "        vertical-align: middle;\n",
       "    }\n",
       "\n",
       "    .dataframe tbody tr th {\n",
       "        vertical-align: top;\n",
       "    }\n",
       "\n",
       "    .dataframe thead th {\n",
       "        text-align: right;\n",
       "    }\n",
       "</style>\n",
       "<table border=\"1\" class=\"dataframe\">\n",
       "  <thead>\n",
       "    <tr style=\"text-align: right;\">\n",
       "      <th></th>\n",
       "      <th>sr</th>\n",
       "      <th>date</th>\n",
       "      <th>startup_name</th>\n",
       "      <th>sector</th>\n",
       "      <th>sub_sector</th>\n",
       "      <th>city</th>\n",
       "      <th>investor</th>\n",
       "      <th>investment_type</th>\n",
       "      <th>amount_usd</th>\n",
       "      <th>year</th>\n",
       "    </tr>\n",
       "  </thead>\n",
       "  <tbody>\n",
       "    <tr>\n",
       "      <th>0</th>\n",
       "      <td>1</td>\n",
       "      <td>2020-09-01</td>\n",
       "      <td>BYJU’S</td>\n",
       "      <td>E-Tech</td>\n",
       "      <td>E-learning</td>\n",
       "      <td>Bengaluru</td>\n",
       "      <td>Tiger Global Management</td>\n",
       "      <td>Private Equity Round</td>\n",
       "      <td>2.000000e+08</td>\n",
       "      <td>2020</td>\n",
       "    </tr>\n",
       "    <tr>\n",
       "      <th>1</th>\n",
       "      <td>2</td>\n",
       "      <td>2020-01-13</td>\n",
       "      <td>Shuttl</td>\n",
       "      <td>Transportation</td>\n",
       "      <td>App based shuttle service</td>\n",
       "      <td>Gurgaon</td>\n",
       "      <td>Susquehanna Growth Equity</td>\n",
       "      <td>Series C</td>\n",
       "      <td>8.048394e+06</td>\n",
       "      <td>2020</td>\n",
       "    </tr>\n",
       "    <tr>\n",
       "      <th>2</th>\n",
       "      <td>3</td>\n",
       "      <td>2020-09-01</td>\n",
       "      <td>Mamaearth</td>\n",
       "      <td>E-commerce</td>\n",
       "      <td>Retailer of baby and toddler products</td>\n",
       "      <td>Bengaluru</td>\n",
       "      <td>Sequoia Capital India</td>\n",
       "      <td>Series B</td>\n",
       "      <td>1.835886e+07</td>\n",
       "      <td>2020</td>\n",
       "    </tr>\n",
       "    <tr>\n",
       "      <th>3</th>\n",
       "      <td>4</td>\n",
       "      <td>2020-02-01</td>\n",
       "      <td>wealthbucket</td>\n",
       "      <td>FinTech</td>\n",
       "      <td>Online Investment</td>\n",
       "      <td>New Delhi</td>\n",
       "      <td>Vinod Khatumal</td>\n",
       "      <td>Pre-series A</td>\n",
       "      <td>3.000000e+06</td>\n",
       "      <td>2020</td>\n",
       "    </tr>\n",
       "    <tr>\n",
       "      <th>4</th>\n",
       "      <td>5</td>\n",
       "      <td>2020-02-01</td>\n",
       "      <td>Fashor</td>\n",
       "      <td>Fashion and Apparel</td>\n",
       "      <td>Embroiled Clothes For Women</td>\n",
       "      <td>Mumbai</td>\n",
       "      <td>Sprout Venture Partners</td>\n",
       "      <td>Seed Round</td>\n",
       "      <td>1.800000e+06</td>\n",
       "      <td>2020</td>\n",
       "    </tr>\n",
       "    <tr>\n",
       "      <th>...</th>\n",
       "      <td>...</td>\n",
       "      <td>...</td>\n",
       "      <td>...</td>\n",
       "      <td>...</td>\n",
       "      <td>...</td>\n",
       "      <td>...</td>\n",
       "      <td>...</td>\n",
       "      <td>...</td>\n",
       "      <td>...</td>\n",
       "      <td>...</td>\n",
       "    </tr>\n",
       "    <tr>\n",
       "      <th>3039</th>\n",
       "      <td>3040</td>\n",
       "      <td>2015-01-29</td>\n",
       "      <td>Printvenue</td>\n",
       "      <td>unknown</td>\n",
       "      <td>unknown</td>\n",
       "      <td>India</td>\n",
       "      <td>Asia Pacific Internet Group</td>\n",
       "      <td>Private Equity</td>\n",
       "      <td>4.500000e+06</td>\n",
       "      <td>2015</td>\n",
       "    </tr>\n",
       "    <tr>\n",
       "      <th>3040</th>\n",
       "      <td>3041</td>\n",
       "      <td>2015-01-29</td>\n",
       "      <td>Graphene</td>\n",
       "      <td>unknown</td>\n",
       "      <td>unknown</td>\n",
       "      <td>India</td>\n",
       "      <td>KARSEMVEN Fund</td>\n",
       "      <td>Private Equity</td>\n",
       "      <td>8.250000e+05</td>\n",
       "      <td>2015</td>\n",
       "    </tr>\n",
       "    <tr>\n",
       "      <th>3041</th>\n",
       "      <td>3042</td>\n",
       "      <td>2015-01-30</td>\n",
       "      <td>Mad Street Den</td>\n",
       "      <td>unknown</td>\n",
       "      <td>unknown</td>\n",
       "      <td>India</td>\n",
       "      <td>Exfinity Fund, GrowX Ventures.</td>\n",
       "      <td>Private Equity</td>\n",
       "      <td>1.500000e+06</td>\n",
       "      <td>2015</td>\n",
       "    </tr>\n",
       "    <tr>\n",
       "      <th>3042</th>\n",
       "      <td>3043</td>\n",
       "      <td>2015-01-30</td>\n",
       "      <td>Simplotel</td>\n",
       "      <td>unknown</td>\n",
       "      <td>unknown</td>\n",
       "      <td>India</td>\n",
       "      <td>MakeMyTrip</td>\n",
       "      <td>Private Equity</td>\n",
       "      <td>1.253085e+07</td>\n",
       "      <td>2015</td>\n",
       "    </tr>\n",
       "    <tr>\n",
       "      <th>3043</th>\n",
       "      <td>3044</td>\n",
       "      <td>2015-01-31</td>\n",
       "      <td>couponmachine.in</td>\n",
       "      <td>unknown</td>\n",
       "      <td>unknown</td>\n",
       "      <td>India</td>\n",
       "      <td>UK based Group of Angel Investors</td>\n",
       "      <td>Seed Funding</td>\n",
       "      <td>1.400000e+05</td>\n",
       "      <td>2015</td>\n",
       "    </tr>\n",
       "  </tbody>\n",
       "</table>\n",
       "<p>3044 rows × 10 columns</p>\n",
       "</div>"
      ],
      "text/plain": [
       "        sr       date      startup_name               sector  \\\n",
       "0        1 2020-09-01            BYJU’S               E-Tech   \n",
       "1        2 2020-01-13            Shuttl       Transportation   \n",
       "2        3 2020-09-01         Mamaearth           E-commerce   \n",
       "3        4 2020-02-01      wealthbucket              FinTech   \n",
       "4        5 2020-02-01            Fashor  Fashion and Apparel   \n",
       "...    ...        ...               ...                  ...   \n",
       "3039  3040 2015-01-29        Printvenue              unknown   \n",
       "3040  3041 2015-01-29          Graphene              unknown   \n",
       "3041  3042 2015-01-30    Mad Street Den              unknown   \n",
       "3042  3043 2015-01-30         Simplotel              unknown   \n",
       "3043  3044 2015-01-31  couponmachine.in              unknown   \n",
       "\n",
       "                                 sub_sector       city  \\\n",
       "0                                E-learning  Bengaluru   \n",
       "1                 App based shuttle service    Gurgaon   \n",
       "2     Retailer of baby and toddler products  Bengaluru   \n",
       "3                         Online Investment  New Delhi   \n",
       "4               Embroiled Clothes For Women     Mumbai   \n",
       "...                                     ...        ...   \n",
       "3039                                unknown      India   \n",
       "3040                                unknown      India   \n",
       "3041                                unknown      India   \n",
       "3042                                unknown      India   \n",
       "3043                                unknown      India   \n",
       "\n",
       "                               investor       investment_type    amount_usd  \\\n",
       "0               Tiger Global Management  Private Equity Round  2.000000e+08   \n",
       "1             Susquehanna Growth Equity              Series C  8.048394e+06   \n",
       "2                 Sequoia Capital India              Series B  1.835886e+07   \n",
       "3                        Vinod Khatumal          Pre-series A  3.000000e+06   \n",
       "4               Sprout Venture Partners            Seed Round  1.800000e+06   \n",
       "...                                 ...                   ...           ...   \n",
       "3039        Asia Pacific Internet Group        Private Equity  4.500000e+06   \n",
       "3040                     KARSEMVEN Fund        Private Equity  8.250000e+05   \n",
       "3041     Exfinity Fund, GrowX Ventures.        Private Equity  1.500000e+06   \n",
       "3042                         MakeMyTrip        Private Equity  1.253085e+07   \n",
       "3043  UK based Group of Angel Investors          Seed Funding  1.400000e+05   \n",
       "\n",
       "      year  \n",
       "0     2020  \n",
       "1     2020  \n",
       "2     2020  \n",
       "3     2020  \n",
       "4     2020  \n",
       "...    ...  \n",
       "3039  2015  \n",
       "3040  2015  \n",
       "3041  2015  \n",
       "3042  2015  \n",
       "3043  2015  \n",
       "\n",
       "[3044 rows x 10 columns]"
      ]
     },
     "execution_count": 24,
     "metadata": {},
     "output_type": "execute_result"
    }
   ],
   "source": [
    "df"
   ]
  },
  {
   "cell_type": "code",
   "execution_count": 25,
   "metadata": {},
   "outputs": [
    {
     "data": {
      "text/plain": [
       "0"
      ]
     },
     "execution_count": 25,
     "metadata": {},
     "output_type": "execute_result"
    }
   ],
   "source": [
    "(df.amount_usd==0).sum()  ## zero values are replaced"
   ]
  },
  {
   "cell_type": "code",
   "execution_count": 26,
   "metadata": {},
   "outputs": [
    {
     "data": {
      "text/plain": [
       "0"
      ]
     },
     "execution_count": 26,
     "metadata": {},
     "output_type": "execute_result"
    }
   ],
   "source": [
    "df.amount_usd.isna().sum()"
   ]
  },
  {
   "cell_type": "code",
   "execution_count": 27,
   "metadata": {},
   "outputs": [
    {
     "data": {
      "text/plain": [
       "50311372595.21791"
      ]
     },
     "execution_count": 27,
     "metadata": {},
     "output_type": "execute_result"
    }
   ],
   "source": [
    "total_funding = df.amount_usd.sum()\n",
    "total_funding"
   ]
  },
  {
   "cell_type": "markdown",
   "metadata": {},
   "source": [
    ">### Now lets do some visualisations by finding top 10 startups ,yearwise funding and sectors"
   ]
  },
  {
   "cell_type": "code",
   "execution_count": 28,
   "metadata": {},
   "outputs": [],
   "source": [
    "import seaborn as sns\n",
    "import matplotlib\n",
    "import matplotlib.pyplot as plt\n",
    "%matplotlib inline\n",
    "\n",
    "sns.set_style('darkgrid')\n",
    "matplotlib.rcParams['font.size'] = 14\n",
    "matplotlib.rcParams['figure.figsize'] = (9, 5)\n",
    "matplotlib.rcParams['figure.facecolor'] = '#00000000'"
   ]
  },
  {
   "cell_type": "code",
   "execution_count": 29,
   "metadata": {},
   "outputs": [
    {
     "data": {
      "text/plain": [
       "sr                                                     2649\n",
       "date                                    2015-07-28 00:00:00\n",
       "startup_name                                       Flipkart\n",
       "sector                                   Online Marketplace\n",
       "sub_sector                                          unknown\n",
       "city                                              Bangalore\n",
       "investor           Steadview Capital and existing investors\n",
       "investment_type                              Private Equity\n",
       "amount_usd                                            7e+08\n",
       "year                                                   2015\n",
       "Name: 2648, dtype: object"
      ]
     },
     "execution_count": 29,
     "metadata": {},
     "output_type": "execute_result"
    }
   ],
   "source": [
    "df['startup_name']= df['startup_name'].str.replace('Flipkart.com','Flipkart')\n",
    "df.loc[2648]"
   ]
  },
  {
   "cell_type": "code",
   "execution_count": 30,
   "metadata": {},
   "outputs": [
    {
     "data": {
      "text/html": [
       "<div>\n",
       "<style scoped>\n",
       "    .dataframe tbody tr th:only-of-type {\n",
       "        vertical-align: middle;\n",
       "    }\n",
       "\n",
       "    .dataframe tbody tr th {\n",
       "        vertical-align: top;\n",
       "    }\n",
       "\n",
       "    .dataframe thead th {\n",
       "        text-align: right;\n",
       "    }\n",
       "</style>\n",
       "<table border=\"1\" class=\"dataframe\">\n",
       "  <thead>\n",
       "    <tr style=\"text-align: right;\">\n",
       "      <th></th>\n",
       "      <th>startup_name</th>\n",
       "      <th>amount_usd</th>\n",
       "    </tr>\n",
       "  </thead>\n",
       "  <tbody>\n",
       "    <tr>\n",
       "      <th>60</th>\n",
       "      <td>Rapido Bike Taxi</td>\n",
       "      <td>3.900000e+09</td>\n",
       "    </tr>\n",
       "    <tr>\n",
       "      <th>651</th>\n",
       "      <td>Flipkart</td>\n",
       "      <td>2.500000e+09</td>\n",
       "    </tr>\n",
       "    <tr>\n",
       "      <th>966</th>\n",
       "      <td>Flipkart</td>\n",
       "      <td>1.400000e+09</td>\n",
       "    </tr>\n",
       "    <tr>\n",
       "      <th>830</th>\n",
       "      <td>Paytm</td>\n",
       "      <td>1.400000e+09</td>\n",
       "    </tr>\n",
       "    <tr>\n",
       "      <th>31</th>\n",
       "      <td>Paytm</td>\n",
       "      <td>1.000000e+09</td>\n",
       "    </tr>\n",
       "    <tr>\n",
       "      <th>2648</th>\n",
       "      <td>Flipkart</td>\n",
       "      <td>7.000000e+08</td>\n",
       "    </tr>\n",
       "    <tr>\n",
       "      <th>2459</th>\n",
       "      <td>Paytm</td>\n",
       "      <td>6.800000e+08</td>\n",
       "    </tr>\n",
       "    <tr>\n",
       "      <th>188</th>\n",
       "      <td>True North</td>\n",
       "      <td>6.000000e+08</td>\n",
       "    </tr>\n",
       "    <tr>\n",
       "      <th>33</th>\n",
       "      <td>Udaan</td>\n",
       "      <td>5.850000e+08</td>\n",
       "    </tr>\n",
       "    <tr>\n",
       "      <th>2470</th>\n",
       "      <td>Snapdeal</td>\n",
       "      <td>5.000000e+08</td>\n",
       "    </tr>\n",
       "  </tbody>\n",
       "</table>\n",
       "</div>"
      ],
      "text/plain": [
       "          startup_name    amount_usd\n",
       "60    Rapido Bike Taxi  3.900000e+09\n",
       "651           Flipkart  2.500000e+09\n",
       "966           Flipkart  1.400000e+09\n",
       "830              Paytm  1.400000e+09\n",
       "31               Paytm  1.000000e+09\n",
       "2648          Flipkart  7.000000e+08\n",
       "2459             Paytm  6.800000e+08\n",
       "188         True North  6.000000e+08\n",
       "33               Udaan  5.850000e+08\n",
       "2470          Snapdeal  5.000000e+08"
      ]
     },
     "execution_count": 30,
     "metadata": {},
     "output_type": "execute_result"
    }
   ],
   "source": [
    "top_10=df[['startup_name','amount_usd']].sort_values(by='amount_usd',ascending=False).head(10)\n",
    "top_10"
   ]
  },
  {
   "cell_type": "code",
   "execution_count": 31,
   "metadata": {},
   "outputs": [
    {
     "data": {
      "image/png": "[encoded data removed]",
      "text/plain": [
       "<Figure size 864x648 with 1 Axes>"
      ]
     },
     "metadata": {
      "needs_background": "light"
     },
     "output_type": "display_data"
    }
   ],
   "source": [
    "plt.figure(figsize=(12,9))\n",
    "plt.title('Top 10 Companies Recieved Fundings',fontsize=20)\n",
    "plt.xlabel('Startups',fontsize=15)\n",
    "plt.ylabel('Amount In USD (Hundred Million)',fontsize=15)\n",
    "plt.bar(top_10.startup_name,top_10.amount_usd);"
   ]
  },
  {
   "cell_type": "markdown",
   "metadata": {},
   "source": [
    "> **Here for flipkart and paytm it is showing white lines because they got funding multiple times so they are stacked   together **"
   ]
  },
  {
   "cell_type": "markdown",
   "metadata": {},
   "source": [
    "###  What is the trend of fundings?"
   ]
  },
  {
   "cell_type": "code",
   "execution_count": 32,
   "metadata": {},
   "outputs": [
    {
     "data": {
      "text/plain": [
       "0"
      ]
     },
     "execution_count": 32,
     "metadata": {},
     "output_type": "execute_result"
    }
   ],
   "source": [
    "df['amount_usd'].isnull().sum()"
   ]
  },
  {
   "cell_type": "code",
   "execution_count": 33,
   "metadata": {},
   "outputs": [
    {
     "data": {
      "text/plain": [
       "year\n",
       "2015    934\n",
       "2016    993\n",
       "2017    687\n",
       "2018    312\n",
       "2019    111\n",
       "2020      7\n",
       "Name: sr, dtype: int64"
      ]
     },
     "execution_count": 33,
     "metadata": {},
     "output_type": "execute_result"
    }
   ],
   "source": [
    "year_df=df.groupby(by='year').count()\n",
    "year_df['sr']"
   ]
  },
  {
   "cell_type": "code",
   "execution_count": 34,
   "metadata": {},
   "outputs": [
    {
     "data": {
      "image/png": "[encoded data removed]",
      "text/plain": [
       "<Figure size 648x360 with 1 Axes>"
      ]
     },
     "metadata": {
      "needs_background": "light"
     },
     "output_type": "display_data"
    }
   ],
   "source": [
    "plt.title('Trend of Startup Fundings')\n",
    "plt.xlabel('Year')\n",
    "plt.ylabel('Count of Startups')\n",
    "plt.plot(year_df.index,year_df.sr,'o-b');\n",
    "#sns.lineplot(x=year_df.index,y=year_df.sr);"
   ]
  },
  {
   "cell_type": "markdown",
   "metadata": {},
   "source": [
    "> **As we can see through the years the fundings for  the  startups is decreasing which is not so good**"
   ]
  },
  {
   "cell_type": "markdown",
   "metadata": {},
   "source": [
    "### yearwise amount of startup fundings"
   ]
  },
  {
   "cell_type": "code",
   "execution_count": 35,
   "metadata": {},
   "outputs": [
    {
     "data": {
      "image/png": "[encoded data removed]",
      "text/plain": [
       "<Figure size 648x648 with 1 Axes>"
      ]
     },
     "metadata": {
      "needs_background": "light"
     },
     "output_type": "display_data"
    }
   ],
   "source": [
    "plt.figure(figsize=(9,9))\n",
    "plt.title('Yearly Startup Fundings',pad=10,fontsize=20)\n",
    "plt.xlabel('Year',labelpad=10,fontsize=15)\n",
    "plt.ylabel('Count of Startups',labelpad=10,fontsize=15)\n",
    "ax=sns.barplot(x=df.year,y=df.amount_usd)\n",
    "ax.set(xlabel=\"Year\", ylabel = \"Amount in USD (100M)\");"
   ]
  },
  {
   "cell_type": "markdown",
   "metadata": {},
   "source": [
    "> **As per previous graph stats the startup fundings decreased over the years but here we can see that the ones who have got the fundings got large amount of fundings(volume)**"
   ]
  },
  {
   "cell_type": "markdown",
   "metadata": {},
   "source": [
    "###  Top Startups that recieved great fundings"
   ]
  },
  {
   "cell_type": "code",
   "execution_count": 37,
   "metadata": {},
   "outputs": [
    {
     "data": {
      "text/plain": [
       "60      3.900000e+09\n",
       "651     2.500000e+09\n",
       "966     1.400000e+09\n",
       "830     1.400000e+09\n",
       "31      1.000000e+09\n",
       "2648    7.000000e+08\n",
       "2459    6.800000e+08\n",
       "188     6.000000e+08\n",
       "33      5.850000e+08\n",
       "2470    5.000000e+08\n",
       "Name: amount_usd, dtype: float64"
      ]
     },
     "execution_count": 37,
     "metadata": {},
     "output_type": "execute_result"
    }
   ],
   "source": [
    "top_10.groupby('startup_name')\n",
    "top_10.amount_usd"
   ]
  },
  {
   "cell_type": "code",
   "execution_count": 38,
   "metadata": {},
   "outputs": [
    {
     "data": {
      "image/png": "[encoded data removed]",
      "text/plain": [
       "<Figure size 864x648 with 1 Axes>"
      ]
     },
     "metadata": {
      "needs_background": "light"
     },
     "output_type": "display_data"
    }
   ],
   "source": [
    "plt.figure(figsize=(12,9))\n",
    "plt.title('Top 10 Companies Recieved Fundings',fontsize=20)\n",
    "plt.xlabel('Startups',fontsize=15)\n",
    "plt.ylabel('Amount In USD (Hundred Million)',fontsize=15)\n",
    "plt.bar(top_10.startup_name,top_10.amount_usd);"
   ]
  },
  {
   "cell_type": "markdown",
   "metadata": {},
   "source": [
    "###  Which type got more fundings?"
   ]
  },
  {
   "cell_type": "code",
   "execution_count": 39,
   "metadata": {},
   "outputs": [],
   "source": [
    "sector_df=df.sector[df.sector != 'unknown'].value_counts().head(7)"
   ]
  },
  {
   "cell_type": "code",
   "execution_count": 40,
   "metadata": {},
   "outputs": [
    {
     "data": {
      "text/plain": [
       "Consumer Internet    941\n",
       "Technology           478\n",
       "eCommerce            186\n",
       "Healthcare            70\n",
       "Finance               62\n",
       "ECommerce             61\n",
       "Logistics             32\n",
       "Name: sector, dtype: int64"
      ]
     },
     "execution_count": 40,
     "metadata": {},
     "output_type": "execute_result"
    }
   ],
   "source": [
    "sector_df"
   ]
  },
  {
   "cell_type": "code",
   "execution_count": 41,
   "metadata": {},
   "outputs": [
    {
     "data": {
      "text/html": [
       "<div>\n",
       "<style scoped>\n",
       "    .dataframe tbody tr th:only-of-type {\n",
       "        vertical-align: middle;\n",
       "    }\n",
       "\n",
       "    .dataframe tbody tr th {\n",
       "        vertical-align: top;\n",
       "    }\n",
       "\n",
       "    .dataframe thead th {\n",
       "        text-align: right;\n",
       "    }\n",
       "</style>\n",
       "<table border=\"1\" class=\"dataframe\">\n",
       "  <thead>\n",
       "    <tr style=\"text-align: right;\">\n",
       "      <th></th>\n",
       "      <th>sr</th>\n",
       "      <th>date</th>\n",
       "      <th>startup_name</th>\n",
       "      <th>sector</th>\n",
       "      <th>sub_sector</th>\n",
       "      <th>city</th>\n",
       "      <th>investor</th>\n",
       "      <th>investment_type</th>\n",
       "      <th>amount_usd</th>\n",
       "      <th>year</th>\n",
       "    </tr>\n",
       "  </thead>\n",
       "  <tbody>\n",
       "    <tr>\n",
       "      <th>151</th>\n",
       "      <td>152</td>\n",
       "      <td>2018-01-09</td>\n",
       "      <td>Netmeds</td>\n",
       "      <td>Consumer Internet</td>\n",
       "      <td>Online Pharmacy Chain</td>\n",
       "      <td>Chennai</td>\n",
       "      <td>Sistema Asia Fund, Sistema JSFC and Tanncam In...</td>\n",
       "      <td>Private Equity</td>\n",
       "      <td>3.500000e+07</td>\n",
       "      <td>2018</td>\n",
       "    </tr>\n",
       "    <tr>\n",
       "      <th>153</th>\n",
       "      <td>154</td>\n",
       "      <td>2018-03-09</td>\n",
       "      <td>Daily hunt</td>\n",
       "      <td>Consumer Internet</td>\n",
       "      <td>News and ebooks Mobile App</td>\n",
       "      <td>Bengaluru</td>\n",
       "      <td>Falcon Edge</td>\n",
       "      <td>Private Equity</td>\n",
       "      <td>6.390000e+06</td>\n",
       "      <td>2018</td>\n",
       "    </tr>\n",
       "    <tr>\n",
       "      <th>155</th>\n",
       "      <td>156</td>\n",
       "      <td>2018-04-09</td>\n",
       "      <td>HappyGoEasy</td>\n",
       "      <td>Consumer Internet</td>\n",
       "      <td>Online Travel Agecy</td>\n",
       "      <td>Gurugram</td>\n",
       "      <td>Korea Investment Partners (KIP), Samsung and C...</td>\n",
       "      <td>Private Equity</td>\n",
       "      <td>1.253085e+07</td>\n",
       "      <td>2018</td>\n",
       "    </tr>\n",
       "    <tr>\n",
       "      <th>156</th>\n",
       "      <td>157</td>\n",
       "      <td>2018-05-09</td>\n",
       "      <td>Nykaa</td>\n",
       "      <td>Consumer Internet</td>\n",
       "      <td>Online Marketplace For Multi-brand Beauty Cosm...</td>\n",
       "      <td>Mumbai</td>\n",
       "      <td>Lighthouse</td>\n",
       "      <td>Private Equity</td>\n",
       "      <td>1.572000e+08</td>\n",
       "      <td>2018</td>\n",
       "    </tr>\n",
       "    <tr>\n",
       "      <th>158</th>\n",
       "      <td>159</td>\n",
       "      <td>2018-06-09</td>\n",
       "      <td>Dream11</td>\n",
       "      <td>Consumer Internet</td>\n",
       "      <td>Online Gaming Platform</td>\n",
       "      <td>Mumbai</td>\n",
       "      <td>Tencent, Kalaari Capital and Private equity fi...</td>\n",
       "      <td>Private Equity</td>\n",
       "      <td>1.000000e+08</td>\n",
       "      <td>2018</td>\n",
       "    </tr>\n",
       "    <tr>\n",
       "      <th>...</th>\n",
       "      <td>...</td>\n",
       "      <td>...</td>\n",
       "      <td>...</td>\n",
       "      <td>...</td>\n",
       "      <td>...</td>\n",
       "      <td>...</td>\n",
       "      <td>...</td>\n",
       "      <td>...</td>\n",
       "      <td>...</td>\n",
       "      <td>...</td>\n",
       "    </tr>\n",
       "    <tr>\n",
       "      <th>2100</th>\n",
       "      <td>2101</td>\n",
       "      <td>2016-01-29</td>\n",
       "      <td>Aisle</td>\n",
       "      <td>Consumer Internet</td>\n",
       "      <td>Indians focused Matchmaking App</td>\n",
       "      <td>Bangalore</td>\n",
       "      <td>TermSheet, ah! Ventures</td>\n",
       "      <td>Seed Funding</td>\n",
       "      <td>1.850000e+05</td>\n",
       "      <td>2016</td>\n",
       "    </tr>\n",
       "    <tr>\n",
       "      <th>2101</th>\n",
       "      <td>2102</td>\n",
       "      <td>2016-01-29</td>\n",
       "      <td>FreshMenu</td>\n",
       "      <td>Consumer Internet</td>\n",
       "      <td>Fresh Food Delivery platform</td>\n",
       "      <td>Bangalore</td>\n",
       "      <td>Zodius Technology Fund, Lightspeed Venture Par...</td>\n",
       "      <td>Private Equity</td>\n",
       "      <td>1.700000e+07</td>\n",
       "      <td>2016</td>\n",
       "    </tr>\n",
       "    <tr>\n",
       "      <th>2104</th>\n",
       "      <td>2105</td>\n",
       "      <td>2016-01-29</td>\n",
       "      <td>TinMen</td>\n",
       "      <td>Consumer Internet</td>\n",
       "      <td>Food Delivery Platform</td>\n",
       "      <td>Hyderabad</td>\n",
       "      <td>Lead Angel Network</td>\n",
       "      <td>Seed Funding</td>\n",
       "      <td>1.253085e+07</td>\n",
       "      <td>2016</td>\n",
       "    </tr>\n",
       "    <tr>\n",
       "      <th>2106</th>\n",
       "      <td>2107</td>\n",
       "      <td>2016-01-30</td>\n",
       "      <td>FindUrClass</td>\n",
       "      <td>Consumer Internet</td>\n",
       "      <td>Hobby &amp; Activity Class Aggregator</td>\n",
       "      <td>Mumbai</td>\n",
       "      <td>Amit Patni, Anirudh Damani, Samir Shah</td>\n",
       "      <td>Seed Funding</td>\n",
       "      <td>1.253085e+07</td>\n",
       "      <td>2016</td>\n",
       "    </tr>\n",
       "    <tr>\n",
       "      <th>2107</th>\n",
       "      <td>2108</td>\n",
       "      <td>2016-01-30</td>\n",
       "      <td>DesignBids</td>\n",
       "      <td>Consumer Internet</td>\n",
       "      <td>Interior Design Marketplace</td>\n",
       "      <td>New Delhi</td>\n",
       "      <td>Indian Angel Network</td>\n",
       "      <td>Seed Funding</td>\n",
       "      <td>1.253085e+07</td>\n",
       "      <td>2016</td>\n",
       "    </tr>\n",
       "  </tbody>\n",
       "</table>\n",
       "<p>941 rows × 10 columns</p>\n",
       "</div>"
      ],
      "text/plain": [
       "        sr       date startup_name             sector  \\\n",
       "151    152 2018-01-09      Netmeds  Consumer Internet   \n",
       "153    154 2018-03-09   Daily hunt  Consumer Internet   \n",
       "155    156 2018-04-09  HappyGoEasy  Consumer Internet   \n",
       "156    157 2018-05-09        Nykaa  Consumer Internet   \n",
       "158    159 2018-06-09      Dream11  Consumer Internet   \n",
       "...    ...        ...          ...                ...   \n",
       "2100  2101 2016-01-29        Aisle  Consumer Internet   \n",
       "2101  2102 2016-01-29    FreshMenu  Consumer Internet   \n",
       "2104  2105 2016-01-29       TinMen  Consumer Internet   \n",
       "2106  2107 2016-01-30  FindUrClass  Consumer Internet   \n",
       "2107  2108 2016-01-30   DesignBids  Consumer Internet   \n",
       "\n",
       "                                             sub_sector       city  \\\n",
       "151                               Online Pharmacy Chain    Chennai   \n",
       "153                          News and ebooks Mobile App  Bengaluru   \n",
       "155                                 Online Travel Agecy   Gurugram   \n",
       "156   Online Marketplace For Multi-brand Beauty Cosm...     Mumbai   \n",
       "158                              Online Gaming Platform     Mumbai   \n",
       "...                                                 ...        ...   \n",
       "2100                    Indians focused Matchmaking App  Bangalore   \n",
       "2101                       Fresh Food Delivery platform  Bangalore   \n",
       "2104                             Food Delivery Platform  Hyderabad   \n",
       "2106                  Hobby & Activity Class Aggregator     Mumbai   \n",
       "2107                        Interior Design Marketplace  New Delhi   \n",
       "\n",
       "                                               investor investment_type  \\\n",
       "151   Sistema Asia Fund, Sistema JSFC and Tanncam In...  Private Equity   \n",
       "153                                         Falcon Edge  Private Equity   \n",
       "155   Korea Investment Partners (KIP), Samsung and C...  Private Equity   \n",
       "156                                          Lighthouse  Private Equity   \n",
       "158   Tencent, Kalaari Capital and Private equity fi...  Private Equity   \n",
       "...                                                 ...             ...   \n",
       "2100                            TermSheet, ah! Ventures    Seed Funding   \n",
       "2101  Zodius Technology Fund, Lightspeed Venture Par...  Private Equity   \n",
       "2104                                 Lead Angel Network    Seed Funding   \n",
       "2106             Amit Patni, Anirudh Damani, Samir Shah    Seed Funding   \n",
       "2107                               Indian Angel Network    Seed Funding   \n",
       "\n",
       "        amount_usd  year  \n",
       "151   3.500000e+07  2018  \n",
       "153   6.390000e+06  2018  \n",
       "155   1.253085e+07  2018  \n",
       "156   1.572000e+08  2018  \n",
       "158   1.000000e+08  2018  \n",
       "...            ...   ...  \n",
       "2100  1.850000e+05  2016  \n",
       "2101  1.700000e+07  2016  \n",
       "2104  1.253085e+07  2016  \n",
       "2106  1.253085e+07  2016  \n",
       "2107  1.253085e+07  2016  \n",
       "\n",
       "[941 rows x 10 columns]"
      ]
     },
     "execution_count": 41,
     "metadata": {},
     "output_type": "execute_result"
    }
   ],
   "source": [
    "df[df.sector=='Consumer Internet']"
   ]
  },
  {
   "cell_type": "code",
   "execution_count": 42,
   "metadata": {},
   "outputs": [
    {
     "data": {
      "image/png": "[encoded data removed]",
      "text/plain": [
       "<Figure size 720x720 with 1 Axes>"
      ]
     },
     "metadata": {},
     "output_type": "display_data"
    }
   ],
   "source": [
    "\n",
    "plt.figure(figsize=(10,10))\n",
    "plt.title('Sector-wise Fundings')\n",
    "plt.pie(sector_df,autopct='%.2f%%',\n",
    "       labels=['Consumer Internet','Technology','eCommerce','Healthcare','Finance','ECommerce','Logistics'],\n",
    "       pctdistance=.7);"
   ]
  },
  {
   "cell_type": "markdown",
   "metadata": {},
   "source": [
    "\n",
    "> **Here we can see internet market is taking half of the place because this is very broad sector that covers every startup related to internet somehow**\n",
    "\n",
    ">**Technology is upgrading its sector in day by day which is great sign**\n",
    "\n",
    ">**E-commerce is the sector growing rapidly in India specially Flipkart is giving tough competition to international competitor Amazon ecommerce**"
   ]
  },
  {
   "cell_type": "markdown",
   "metadata": {},
   "source": [
    "###  What were the top investment types?"
   ]
  },
  {
   "cell_type": "code",
   "execution_count": 43,
   "metadata": {},
   "outputs": [
    {
     "data": {
      "text/plain": [
       "Private Equity          1356\n",
       "Seed Funding            1355\n",
       "Seed/ Angel Funding       60\n",
       "Seed / Angel Funding      47\n",
       "Seed\\\\nFunding            30\n",
       "Debt Funding              25\n",
       "Series A                  24\n",
       "Seed/Angel Funding        23\n",
       "Series B                  20\n",
       "Series C                  14\n",
       "Name: investment_type, dtype: int64"
      ]
     },
     "execution_count": 43,
     "metadata": {},
     "output_type": "execute_result"
    }
   ],
   "source": [
    "df['investment_type'].value_counts().head(10)"
   ]
  },
  {
   "cell_type": "code",
   "execution_count": 44,
   "metadata": {},
   "outputs": [],
   "source": [
    "df['investment_type']=df.investment_type.str.replace('Seed/ Angel Funding','Seed Funding').str.replace('Seed / Angel Funding','Seed Funding').str.replace('Seed\\\\nFunding   ','Seed Funding').str.replace('Seed/Angel Funding','Seed Funding').str.replace('Angel / Seed Funding','Seed Funding')"
   ]
  },
  {
   "cell_type": "code",
   "execution_count": 45,
   "metadata": {},
   "outputs": [
    {
     "data": {
      "text/plain": [
       "Seed Funding      1493\n",
       "Private Equity    1356\n",
       "Seed\\\\nFunding      30\n",
       "Debt Funding        25\n",
       "Series A            24\n",
       "Series B            20\n",
       "Series C            14\n",
       "Name: investment_type, dtype: int64"
      ]
     },
     "execution_count": 45,
     "metadata": {},
     "output_type": "execute_result"
    }
   ],
   "source": [
    "df['investment_type'].value_counts().head(7)"
   ]
  },
  {
   "cell_type": "code",
   "execution_count": 46,
   "metadata": {},
   "outputs": [],
   "source": [
    "df['investment_type']=df['investment_type'].str.replace(\"\\\\\",'')"
   ]
  },
  {
   "cell_type": "code",
   "execution_count": 47,
   "metadata": {},
   "outputs": [],
   "source": [
    "df['investment_type']=df['investment_type'].str.replace(\"SeednFunding\",'Seed Funding')\n",
    "#first removed \\\\ then removed n"
   ]
  },
  {
   "cell_type": "code",
   "execution_count": 48,
   "metadata": {},
   "outputs": [
    {
     "data": {
      "text/plain": [
       "Seed Funding      1523\n",
       "Private Equity    1356\n",
       "Debt Funding        25\n",
       "Series A            24\n",
       "Series B            20\n",
       "Series C            14\n",
       "Series D            12\n",
       "Name: investment_type, dtype: int64"
      ]
     },
     "execution_count": 48,
     "metadata": {},
     "output_type": "execute_result"
    }
   ],
   "source": [
    "df['investment_type'].value_counts().head(7)"
   ]
  },
  {
   "cell_type": "code",
   "execution_count": 49,
   "metadata": {},
   "outputs": [],
   "source": [
    "invest_type=df['investment_type'].value_counts().head(7)"
   ]
  },
  {
   "cell_type": "code",
   "execution_count": 50,
   "metadata": {},
   "outputs": [
    {
     "data": {
      "image/png": "[encoded data removed]",
      "text/plain": [
       "<Figure size 864x648 with 1 Axes>"
      ]
     },
     "metadata": {
      "needs_background": "light"
     },
     "output_type": "display_data"
    }
   ],
   "source": [
    "plt.figure(figsize=(12,9))\n",
    "plt.title('Types Of Investments',fontsize=20)\n",
    "plt.xlabel('Count',fontsize=15,labelpad=10)\n",
    "plt.ylabel('Type',fontsize=15,labelpad=10)\n",
    "plt.barh(invest_type.index,invest_type);"
   ]
  },
  {
   "cell_type": "markdown",
   "metadata": {},
   "source": [
    ">**Seed funding or seed stage funding is a very early investment which aims at helping a business grow and generating its own capital. Also referred to as seed money or seed capital, investors often get equity stake in exchange for the capital invested**\n",
    "\n",
    ">**Private Equity refers to shares of a company that represents its ownership. An individual who wants to take partial ownership of a company can make a private equity investment in that particular firm. These companies are not listed or traded on any stock exchange.**\n",
    "\n",
    "> **[Link For Series Funding Information](https://www.startups.com/library/expert-advice/series-funding-a-b-c-d-e)**"
   ]
  },
  {
   "cell_type": "markdown",
   "metadata": {},
   "source": [
    "## Inferences and Conclusion\n",
    "\n",
    "- As we can see through the years the fundings for  the  startups is decreasing which is not so good\n",
    "- Startup fundings decreased over the years but we can see that the ones who have got the fundings got large amount of fundings(volume)\n",
    "- Here we can see internet market is taking half of the place because this is very broad sector that covers every startup related to internet somehow\n",
    "- Technology is upgrading its sector in day by day which is great sign.\n",
    "- E-commerce sector is the sector growing rapidly in India,specially Flipkart is giving tough competition to international competitor Amazon ecommerce\n",
    "- Startups getting more and more seed funding which is good sign for startups as seed fundings helps them to grow and be a plant from seed."
   ]
  },
  {
   "cell_type": "code",
   "execution_count": null,
   "metadata": {},
   "outputs": [],
   "source": []
  }
 ],
 "metadata": {
  "kernelspec": {
   "display_name": "Python 3",
   "language": "python",
   "name": "python3"
  },
  "language_info": {
   "codemirror_mode": {
    "name": "ipython",
    "version": 3
   },
   "file_extension": ".py",
   "mimetype": "text/x-python",
   "name": "python",
   "nbconvert_exporter": "python",
   "pygments_lexer": "ipython3",
   "version": "3.8.3"
  }
 },
 "nbformat": 4,
 "nbformat_minor": 4
}
